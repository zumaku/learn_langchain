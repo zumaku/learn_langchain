{
 "cells": [
  {
   "cell_type": "code",
   "execution_count": 75,
   "metadata": {},
   "outputs": [
    {
     "data": {
      "text/plain": [
       "True"
      ]
     },
     "execution_count": 75,
     "metadata": {},
     "output_type": "execute_result"
    }
   ],
   "source": [
    "from langchain_groq import ChatGroq\n",
    "from langchain.schema.output_parser import StrOutputParser\n",
    "from langchain.schema.runnable import RunnableLambda, RunnableParallel\n",
    "from langchain.prompts import ChatPromptTemplate\n",
    "from dotenv import load_dotenv\n",
    "\n",
    "load_dotenv()"
   ]
  },
  {
   "cell_type": "code",
   "execution_count": 76,
   "metadata": {},
   "outputs": [],
   "source": [
    "# Membuat model\n",
    "model = ChatGroq(model=\"llama3-8b-8192\")"
   ]
  },
  {
   "cell_type": "code",
   "execution_count": 77,
   "metadata": {},
   "outputs": [],
   "source": [
    "# Membuat prompr template\n",
    "starting_prompt = ChatPromptTemplate.from_messages([\n",
    "    (\"system\", \"Kamu adalah seorang analis sentimen.\"),\n",
    "    (\"human\", \"Perhatikan ulasan ini: {ulasan}.\\nDari ulasan ini, pisahkan ulasan yang positif dan negatif.\")\n",
    "])"
   ]
  },
  {
   "cell_type": "code",
   "execution_count": 78,
   "metadata": {},
   "outputs": [],
   "source": [
    "# Fungsi Prompt Branches\n",
    "def get_positif_prompt(ulasan):\n",
    "    positif_prompt = ChatPromptTemplate.from_messages([\n",
    "        (\"system\", \"Kamu adalah seorang analis sentimen.\"),\n",
    "        (\"human\", \"Dari ulasan ini: {ulasan}, temukan semua aspek yang positif dan jelaskan lebih jelas.\")\n",
    "    ])\n",
    "    \n",
    "    return positif_prompt.format_prompt(ulasan=ulasan).to_string()\n",
    "\n",
    "def get_negatif_prompt(ulasan):\n",
    "    negatif_prompt = ChatPromptTemplate.from_messages([\n",
    "        (\"system\", \"Kamu adalah seorang analis sentimen.\"),\n",
    "        (\"human\", \"Dari ulasan ini: {ulasan}, temukan semua aspek yang negatif dan jelaskan lebih jelas.\")\n",
    "    ])\n",
    "    \n",
    "    return negatif_prompt.format_prompt(ulasan=ulasan).to_string()\n",
    "\n",
    "# Fungsi gabung sentimen\n",
    "def gabung_sentimen(positif, negatif):\n",
    "    return f\"Sentimen Positif:\\n{positif}\\n\\nSentimen Negatif:\\n{negatif}\""
   ]
  },
  {
   "cell_type": "code",
   "execution_count": 79,
   "metadata": {},
   "outputs": [],
   "source": [
    "# Membuat Branch\n",
    "positif_branch = RunnableLambda(lambda x:\n",
    "    # get_positif_prompt(x) | model | StrOutputParser()                 # ❌\n",
    "    # model.invoke(get_positif_prompt(x)).content | StrOutputParser()   # ❌\n",
    "    StrOutputParser().parse(model.invoke(get_positif_prompt(x)))        # ✅ 😭\n",
    ")\n",
    "\n",
    "negatif_branch = RunnableLambda(lambda x: \n",
    "    # get_negatif_prompt(x) | model | StrOutputParser()                 # ❌\n",
    "    # model.invoke(get_negatif_prompt(x)).content | StrOutputParser()   # ❌\n",
    "    StrOutputParser().parse(model.invoke(get_negatif_prompt(x)))        # ✅ 😭\n",
    ")"
   ]
  },
  {
   "cell_type": "code",
   "execution_count": 86,
   "metadata": {},
   "outputs": [],
   "source": [
    "# Membuat chain\n",
    "sentimen_chain = (\n",
    "    starting_prompt\n",
    "    | model\n",
    "    | StrOutputParser()\n",
    "    | RunnableParallel(branches={\n",
    "        \"positif\": positif_branch,\n",
    "        \"negatif\": negatif_branch\n",
    "    })\n",
    "    | RunnableLambda(lambda x: gabung_sentimen(x[\"branches\"][\"positif\"], x[\"branches\"][\"negatif\"]))\n",
    ")"
   ]
  },
  {
   "cell_type": "code",
   "execution_count": 87,
   "metadata": {},
   "outputs": [
    {
     "name": "stdout",
     "output_type": "stream",
     "text": [
      "Sentimen Positif:\n",
      "content='As a sentiment analyst, I\\'ve analyzed the given reviews and identified the following aspects that are positively mentioned about the MacBook product:\\n\\n1. **High-quality features**: The review mentions that the MacBook has \"banyak fitur yang sangat berkualitas\" which translates to \"many high-quality features\". This suggests that the product has a lot of advanced and reliable features that make it stand out.\\n2. **Many advantages**: The review highlights the many advantages of the MacBook, implying that it has a lot of benefits that make it a valuable product.\\n\\nThese positive aspects are mentioned to emphasize the product\\'s strengths and capabilities, suggesting that the reviewer is impressed with its performance and features.\\n\\nPlease note that the negative reviews are also provided, but as a sentiment analyst, I focused on identifying the positive aspects mentioned in the given reviews.' additional_kwargs={} response_metadata={'token_usage': {'completion_tokens': 165, 'prompt_tokens': 121, 'total_tokens': 286, 'completion_time': 0.1375, 'prompt_time': 0.014471354, 'queue_time': 0.0006723349999999996, 'total_time': 0.151971354}, 'model_name': 'llama3-8b-8192', 'system_fingerprint': 'fp_a97cfe35ae', 'finish_reason': 'stop', 'logprobs': None} id='run-3c718bbd-f94f-477e-8220-5c9bea7c69b5-0' usage_metadata={'input_tokens': 121, 'output_tokens': 165, 'total_tokens': 286}\n",
      "\n",
      "Sentimen Negatif:\n",
      "content=\"As a sentiment analyst, I've analyzed the reviews provided and identified the negative sentiment towards the MacBook product. Here are the negative aspects mentioned in the reviews:\\n\\n* Limited number of ports: The reviewer mentioned that the MacBook has a limited number of ports, which makes them unhappy. This is a significant drawback for many users who rely on multiple devices and peripherals.\\n\\n* Unsuitable for students due to high price: The reviewer criticized the MacBook for being too expensive for students, implying that the product is not affordable for those on a budget.\\n\\n* Company prioritizes profit over customer needs: The reviewer made a general statement that the company is only interested in making money, implying that the company prioritizes profits over customer needs and satisfaction.\\n\\nOverall, the negative sentiment towards the MacBook is driven by its limited ports, high price, and perceived lack of customer-centricity. These issues may deter potential customers from purchasing the product.\" additional_kwargs={} response_metadata={'token_usage': {'completion_tokens': 183, 'prompt_tokens': 121, 'total_tokens': 304, 'completion_time': 0.1525, 'prompt_time': 0.005353563, 'queue_time': 0.008966687, 'total_time': 0.157853563}, 'model_name': 'llama3-8b-8192', 'system_fingerprint': 'fp_179b0f92c9', 'finish_reason': 'stop', 'logprobs': None} id='run-1339483a-5e83-4750-ade1-ca9c2218f21a-0' usage_metadata={'input_tokens': 121, 'output_tokens': 183, 'total_tokens': 304}\n"
     ]
    }
   ],
   "source": [
    "# Eksekusi\n",
    "ulasan = \"\"\"Produk MackBook ini puya banyak fitur yang sangat berkualitas dengan banyak keunggulannya\n",
    "Tetapi karena jumlah portnya yang sedikit membuat aku tidak suka. Ini membuat produk ini sangat tidak sesuai dengan harga mahasiswa. Dasar, merek cari uang.\n",
    "\"\"\"\n",
    "\n",
    "result = sentimen_chain.invoke({\"ulasan\": ulasan})\n",
    "print(result)"
   ]
  },
  {
   "cell_type": "markdown",
   "metadata": {},
   "source": [
    "### Conclutions\n",
    "\n",
    "CARANYA MASIH SALAH😭😭😭"
   ]
  }
 ],
 "metadata": {
  "kernelspec": {
   "display_name": "venv",
   "language": "python",
   "name": "python3"
  },
  "language_info": {
   "codemirror_mode": {
    "name": "ipython",
    "version": 3
   },
   "file_extension": ".py",
   "mimetype": "text/x-python",
   "name": "python",
   "nbconvert_exporter": "python",
   "pygments_lexer": "ipython3",
   "version": "3.12.8"
  }
 },
 "nbformat": 4,
 "nbformat_minor": 2
}
