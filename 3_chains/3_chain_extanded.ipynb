{
 "cells": [
  {
   "cell_type": "markdown",
   "metadata": {},
   "source": [
    "### Lanjut..\n",
    "\n",
    "Di sini kita akan meng-extand atau membuat chain kita melakukan hal yang lebih dari sekedar mengembalikan output. Caranya dengan menambah `RunnableLambda` untuk menjalankan fungsi atau tugas tertentu. Entah fungsi itu untuk melakukan pemanggilan API atu tugas lainnya.\n",
    "\n",
    "Dalam kasus ini, kita akan membuat outputnya menampilkan jumlah kata dan membuat teksnya menjadi uppercase."
   ]
  },
  {
   "cell_type": "code",
   "execution_count": 1,
   "metadata": {},
   "outputs": [],
   "source": [
    "from langchain.prompts import ChatPromptTemplate\n",
    "from langchain.schema.output_parser import StrOutputParser\n",
    "from langchain.schema.runnable import RunnableLambda\n",
    "from langchain_ollama import ChatOllama"
   ]
  },
  {
   "cell_type": "code",
   "execution_count": 2,
   "metadata": {},
   "outputs": [],
   "source": [
    "model = ChatOllama(model=\"Llama3.2:1b\")"
   ]
  },
  {
   "cell_type": "code",
   "execution_count": 3,
   "metadata": {},
   "outputs": [],
   "source": [
    "prompt_template = ChatPromptTemplate.from_messages([\n",
    "    (\"system\", \"You are a math genius at {topic} field\"),\n",
    "    (\"human\", \"{message}\")\n",
    "])"
   ]
  },
  {
   "cell_type": "markdown",
   "metadata": {},
   "source": [
    "Jadi ceritanya, output dari model nantinya akan dimasukkan ke fungsi-fungsi ini dan diterima dalam parameter `x` untuk dijalankan."
   ]
  },
  {
   "cell_type": "code",
   "execution_count": 8,
   "metadata": {},
   "outputs": [],
   "source": [
    "# Mendefenisikan fungsi tertentu untuk dijalankan dengan RunnableLambda\n",
    "fn_to_uppercase = RunnableLambda(lambda x: x.upper())\n",
    "fn_count_word = RunnableLambda(lambda x: f\"Jumlah kata adalah {len(x.split())}\\n{x}\")"
   ]
  },
  {
   "cell_type": "markdown",
   "metadata": {},
   "source": [
    "Membuat kombinasi chain menggunakan **Langchain Expression Language (LCEL)**\n",
    "\n",
    "dan ini `|` disebut *pipe* operator"
   ]
  },
  {
   "cell_type": "code",
   "execution_count": 9,
   "metadata": {},
   "outputs": [],
   "source": [
    "# Membuat kombinasi chain menggunakan Langchain Expression Language (LCEL)\n",
    "chain = prompt_template | model | StrOutputParser() | fn_to_uppercase | fn_count_word"
   ]
  },
  {
   "cell_type": "code",
   "execution_count": 10,
   "metadata": {},
   "outputs": [
    {
     "name": "stdout",
     "output_type": "stream",
     "text": [
      "Jumlah kata adalah 84\n",
      "THE FORMULA FOR CALCULATING THE CIRCUMFERENCE OF A CIRCLE IS:\n",
      "\n",
      "C = 2ΠR\n",
      "\n",
      "WHERE C IS THE CIRCUMFERENCE, Π (PI) IS A MATHEMATICAL CONSTANT APPROXIMATELY EQUAL TO 3.14, AND R IS THE RADIUS OF THE CIRCLE.\n",
      "\n",
      "THIS FORMULA CAN ALSO BE EXPRESSED AS:\n",
      "\n",
      "C = 2 × Π × D\n",
      "\n",
      "WHERE D IS THE DIAMETER OF THE CIRCLE, WHICH IS TWICE THE RADIUS.\n",
      "\n",
      "IT'S WORTH NOTING THAT THE CIRCUMFERENCE OF A CIRCLE IS ALWAYS THE SAME NO MATTER WHAT RADIUS OR DIAMETER IT HAS.\n"
     ]
    }
   ],
   "source": [
    "result = chain.invoke({\"topic\": \"geometry\", \"message\": \"What is the formula for calculating the circumference of a circle\"})\n",
    "print(result)"
   ]
  }
 ],
 "metadata": {
  "kernelspec": {
   "display_name": "venv",
   "language": "python",
   "name": "python3"
  },
  "language_info": {
   "codemirror_mode": {
    "name": "ipython",
    "version": 3
   },
   "file_extension": ".py",
   "mimetype": "text/x-python",
   "name": "python",
   "nbconvert_exporter": "python",
   "pygments_lexer": "ipython3",
   "version": "3.12.8"
  }
 },
 "nbformat": 4,
 "nbformat_minor": 2
}
