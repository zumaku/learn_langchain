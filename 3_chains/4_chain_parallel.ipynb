{
 "cells": [
  {
   "cell_type": "markdown",
   "metadata": {},
   "source": [
    "### The Problem\n",
    "Misal kita punya dua tugas. Kita harus menulisa pro dan konta dari suatu produk. Untuk menjalankannya secara linear, pertama harus kita buat yang pro terlebih dahulu (makan waktu 30s) dan kemudian melanjutkannya dengan yang kontra (makan waktu 30s lagi). Dengan cara linear ini membutuhkan waktu sebanyak 1min.\n",
    "\n",
    "Tapi..\n",
    "\n",
    "Jika kita melakukan tugasnya itu bersamaan maka tidak akan memakan waktu sebanyak itu. Sehingganya metode paralel lebih baik."
   ]
  },
  {
   "cell_type": "markdown",
   "metadata": {},
   "source": [
    "### Studi Kasus\n",
    "\n",
    "Kita akan membuat chain untuk menggenerate kelebihan dan kekurangan dari sebuah produk."
   ]
  },
  {
   "cell_type": "code",
   "execution_count": 70,
   "metadata": {},
   "outputs": [
    {
     "data": {
      "text/plain": [
       "True"
      ]
     },
     "execution_count": 70,
     "metadata": {},
     "output_type": "execute_result"
    }
   ],
   "source": [
    "from langchain_groq import ChatGroq\n",
    "from langchain.schema.output_parser import StrOutputParser\n",
    "from langchain.schema.runnable import RunnableLambda, RunnableParallel\n",
    "from langchain.prompts import ChatPromptTemplate\n",
    "from dotenv import load_dotenv\n",
    "\n",
    "load_dotenv()"
   ]
  },
  {
   "cell_type": "code",
   "execution_count": 71,
   "metadata": {},
   "outputs": [],
   "source": [
    "model = ChatGroq(model=\"llama3-8b-8192\")"
   ]
  },
  {
   "cell_type": "markdown",
   "metadata": {},
   "source": [
    "**#1 Buat prompt template awal**"
   ]
  },
  {
   "cell_type": "code",
   "execution_count": 72,
   "metadata": {},
   "outputs": [],
   "source": [
    "# Prompt Awal\n",
    "prompt_awal = ChatPromptTemplate.from_messages([\n",
    "    (\"system\", \"Kamu adalah seorang expert product reviewer yang menggunakan bahasa Indonesia\"),\n",
    "    (\"human\", \"Tolong buat list dari fitur utama pada produk {produk}\")\n",
    "])"
   ]
  },
  {
   "cell_type": "markdown",
   "metadata": {},
   "source": [
    "**#2 Membuat fungsi menganalisa kelebihan dan kekurangan**\n",
    "\n",
    "Tiap fungsi ini akan dibuatkan prompt baru untuk modelnya gunakan sesuai dengan tujuan fungsinya."
   ]
  },
  {
   "cell_type": "code",
   "execution_count": 73,
   "metadata": {},
   "outputs": [],
   "source": [
    "# Fungsi analisa kelebihan produk\n",
    "def analisa_kelebihan(fitur):\n",
    "    # Membuat prompt template untuk menganalisa kelebihan\n",
    "    pro_template = ChatPromptTemplate.from_messages([\n",
    "        (\"system\", \"Kamu adalah seorang expert product reviewer yang menggunakan bahasa Indonesia\"),\n",
    "        (\"human\", \"Berikan fitur ini: {fitur}, list dari kelebihan fitur yang dimiliki\")\n",
    "    ])\n",
    "    \n",
    "    return pro_template.format_prompt(fitur=fitur).to_messages()\n",
    "\n",
    "# Fungsi analisa kekurangan produk\n",
    "def analisa_kekurangan(fitur):\n",
    "    # Membuat prompt template untuk menganalisa kekurangan\n",
    "    cons_prompt = ChatPromptTemplate.from_messages([\n",
    "        (\"system\", \"Kamu adalah seorang expert product reviewer yang menggunakan bahasa Indonesia\"),\n",
    "        (\"human\", \"Berikan fitur ini: {fitur}, list dari kekurangan fitur yang dimiliki\")\n",
    "    ])\n",
    "    \n",
    "    return cons_prompt.format_prompt(fitur=fitur).to_messages()"
   ]
  },
  {
   "cell_type": "markdown",
   "metadata": {},
   "source": []
  },
  {
   "cell_type": "markdown",
   "metadata": {},
   "source": [
    "**#3 Membuat fungsi untuk menggabungkan kelebihan dan kekurangan**\n",
    "\n",
    "Tujuannya untuk membuat dictionary dari chain yang dibuat"
   ]
  },
  {
   "cell_type": "code",
   "execution_count": 74,
   "metadata": {},
   "outputs": [],
   "source": [
    "def gabung_pros_cons(pros, cons):\n",
    "    return f\"Kelebihan:\\n{pros}\\n\\nKekurangan:\\n{cons}\""
   ]
  },
  {
   "cell_type": "markdown",
   "metadata": {},
   "source": [
    "**#4 Membuat RunnableLambda untuk mensimplifikasi cabang-cabang (branches) dengan menggunakan LCEL** "
   ]
  },
  {
   "cell_type": "code",
   "execution_count": 75,
   "metadata": {},
   "outputs": [],
   "source": [
    "pros_branch = (\n",
    "    # x adalah fitur. analisa_kelebihan(x) akan mengembalikan prompt template yang akan digunakan model\n",
    "    RunnableLambda(lambda x: analisa_kelebihan(x)) | model | StrOutputParser()\n",
    ")\n",
    "\n",
    "cons_branch = (\n",
    "    RunnableLambda(lambda x: analisa_kekurangan(x)) | model | StrOutputParser()\n",
    ")"
   ]
  },
  {
   "cell_type": "markdown",
   "metadata": {},
   "source": [
    "**#5 Membuat kombinasi chain menggunakan LCEL**"
   ]
  },
  {
   "cell_type": "code",
   "execution_count": null,
   "metadata": {},
   "outputs": [],
   "source": [
    "chain = (\n",
    "    prompt_awal\n",
    "    | model\n",
    "    | StrOutputParser()\n",
    "    \n",
    "    # Menggunakan RunnableParallel\n",
    "    # Fungci ini akan membuat sebuah dictionary besar yang berisi objek branch.\n",
    "    # Di dalam branch itu akan ada cabang kelebihan dan cabang kekurangan beserta dengan isinya.\n",
    "    | RunnableParallel(branches={\"kelebihan\": pros_branch, \"kekurangan\": cons_branch})\n",
    "    \n",
    "    # Menyatukan kembali semua branch itu\n",
    "    | RunnableLambda(lambda x: gabung_pros_cons(x[\"branches\"][\"kelebihan\"], x[\"branches\"][\"kekurangan\"]))\n",
    ")"
   ]
  },
  {
   "cell_type": "code",
   "execution_count": 77,
   "metadata": {},
   "outputs": [
    {
     "name": "stdout",
     "output_type": "stream",
     "text": [
      "Kelebihan:\n",
      "Berikut adalah list fitur utama pada produk MacBook Pro, beserta kelebihan dari masing-masing fitur:\n",
      "\n",
      "1. **Prosesor**: Intel Core i5 dan i7 yang powerful dan efisien, cocok untuk menghandle tugas-tugas yang intensif.\n",
      "2. **RAM**: Kapasitas RAM yang dapat diupgrade hingga 64GB, memungkinkan Anda untuk menjalankan beberapa aplikasi secara bersamaan tanpa menurunkan kinerja.\n",
      "3. **Storage**: Storage SSD (Solid State Drive) yang cepat dan efisien, memungkinkan Anda untuk mengakses file dan aplikasi dengan cepat.\n",
      "4. **Display**: Layar Retina 4K atau 5K yang memiliki resolusi tinggi dan warna yang cerah, memungkinkan Anda untuk menikmati konten visual yang berkualitas.\n",
      "5. **Graphics**: Kartu grafis AMD Radeon Pro yang powerful dan efisien, cocok untuk menghandle tugas-tugas yang memerlukan performa grafis yang tinggi.\n",
      "6. **Touch Bar**: Touch Bar yang dapat di-customisasi, memungkinkan Anda untuk mengakses aplikasi dan fitur yang Anda butuhkan dengan lebih efektif.\n",
      "7. **Thunderbolt 3 Ports**: Port Thunderbolt 3 yang dapat digunakan untuk Charging, Display, dan Data Transfer dengan kecepatan hingga 40 Gbps.\n",
      "8. **FaceTime HD Camera**: Kamera FaceTime HD yang memiliki resolusi tinggi dan dapat mengambil gambar video yang berkualitas.\n",
      "9. **Touch ID**: Touch ID yang memungkinkan Anda untuk mengautentikasi dengan cepat dan mudah menggunakan fingerprint Anda.\n",
      "10. **Battery Life**: Baterai yang dapat beroperasi hingga 10 jam tanpa perlu di-charge, memungkinkan Anda untuk bekerja atau bermain game dengan lebih lama.\n",
      "11. **Operating System**: Sistem operasi macOS yang powerful dan efektif, memungkinkan Anda untuk menjalankan aplikasi-aplikasi yang Anda butuhkan dengan lebih baik.\n",
      "\n",
      "Dengan demikian, MacBook Pro dilengkapi dengan fitur-fitur yang powerful dan efektif, sehingga memungkinkan Anda untuk menjalankan tugas-tugas yang intensif dan menikmati konten visual yang berkualitas.\n",
      "\n",
      "Kekurangan:\n",
      "Berikut adalah list kekurangan fitur yang dimiliki MacBook Pro:\n",
      "\n",
      "1. **Harga**: MacBook Pro memiliki harga yang relatif mahal, sehingga tidak cocok untuk budget yang terbatas.\n",
      "2. **Keterbatasan port**: MacBook Pro hanya memiliki port Thunderbolt 3 yang dapat digunakan untuk Charging, Display, dan Data Transfer, sehingga dapat menjadi masalah bagi pengguna yang memerlukan port lainnya seperti USB-A, HDMI, dan lain-lain.\n",
      "3. **Tidak memiliki headphone jack**: MacBook Pro tidak memiliki headphone jack, sehingga pengguna harus menggunakan adapter untuk menghubungkan headphone mereka.\n",
      "4. **Tidak memiliki CD/DVD drive**: MacBook Pro tidak memiliki CD/DVD drive, sehingga pengguna tidak dapat menggunakan media physical untuk menginstal aplikasi atau menonton DVD.\n",
      "5. **Keterbatasan koneksi wireless**: MacBook Pro hanya memiliki koneksi wireless Wi-Fi 5, sehingga dapat menjadi masalah bagi pengguna yang memerlukan koneksi wireless yang lebih cepat dan stabil.\n",
      "6. **Tidak memiliki HDMI port**: MacBook Pro tidak memiliki port HDMI, sehingga pengguna harus menggunakan adapter untuk menghubungkan perangkat yang menggunakan port HDMI.\n",
      "7. **Keterbatasan baterai**: Baterai MacBook Pro hanya dapat beroperasi hingga 10 jam, sehingga dapat menjadi masalah bagi pengguna yang memerlukan baterai yang lebih tahan lama.\n",
      "8. **Tidak memiliki SD card slot**: MacBook Pro tidak memiliki slot SD card, sehingga pengguna tidak dapat menggunakan kartu SD untuk mengakses file atau mengupload foto.\n",
      "9. **Keterbatasan fitur audio**: MacBook Pro tidak memiliki fitur audio yang lebih baik, sehingga dapat menjadi masalah bagi pengguna yang memerlukan fitur audio yang lebih baik untuk keperluan profesional.\n",
      "10. **Tidak memiliki fitur USB-A**: MacBook Pro hanya memiliki port Thunderbolt 3, sehingga pengguna tidak dapat menggunakan port USB-A untuk menghubungkan perangkat lainnya.\n"
     ]
    }
   ],
   "source": [
    "result = chain.invoke({\"produk\": \"MakBook Pro\"})\n",
    "print(result)"
   ]
  },
  {
   "cell_type": "markdown",
   "metadata": {},
   "source": [
    "---\n",
    "\n",
    "\n",
    "### Catatan Error: **LangChain Chain Parallel**\n",
    "\n",
    "#### **Deskripsi Masalah**\n",
    "Saat mencoba membuat sebuah chain paralel menggunakan **LangChain**, error berikut muncul:\n",
    "\n",
    "```shell\n",
    "TypeError: Expected a Runnable, callable or dict. Instead got an unsupported type: <class 'langchain_core.prompt_values.ChatPromptValue'>\n",
    "```\n",
    "\n",
    "Error ini terjadi ketika mencoba menjalankan `RunnableParallel` dengan branch yang mengembalikan tipe data **ChatPromptValue**. Namun, `RunnableParallel` mengharapkan `Runnable`, callable, atau dictionary.\n",
    "\n",
    "#### **Penyebab**\n",
    "1. **Tipe Data Tidak Didukung:**  \n",
    "   Fungsi `analisa_kelebihan` dan `analisa_kekurangan` mengembalikan objek `ChatPromptValue` dari `ChatPromptTemplate`. Tipe ini tidak dikenali langsung oleh LangChain sebagai input yang valid untuk cabang paralel.\n",
    "\n",
    "2. **Kesalahan Penanganan Output Prompt:**  \n",
    "   Output dari fungsi `analisa_kelebihan` dan `analisa_kekurangan` belum diubah menjadi format yang sesuai sebelum diproses lebih lanjut oleh model.\n",
    "\n",
    "```python\n",
    "   def analisa_kelebihan(fitur):\n",
    "      # ...      \n",
    "      return pro_template.format_prompt(fitur=fitur)  # Ini mengembalikan tipe data ChatPromptTemplate\n",
    "\n",
    "   def analisa_kekurangan(fitur):\n",
    "      # ...      \n",
    "      return cons_prompt.format_prompt(fitur=fitur)   # Ini mengembalikan tipe data ChatPromptTemplate\n",
    "```\n",
    "\n",
    "#### **Langkah Penyelesaian**\n",
    "Untuk mengatasi error ini, berikut langkah-langkah yang dilakukan:\n",
    "\n",
    "1. **Ubah Output Prompt ke Format yang Sesuai:**\n",
    "   Gunakan `.to_messages()` setelah `format_prompt()` agar keluaran berupa format yang diharapkan model.\n",
    "\n",
    "2. **Panggil Model dengan Benar di Lambda:**\n",
    "   Pastikan model dipanggil menggunakan `.invoke()` di dalam `RunnableLambda` dengan input yang sudah sesuai.\n",
    "\n",
    "3. **Sesuaikan Cabang `RunnableParallel`:**\n",
    "   Perbaiki setiap cabang (`pros_branch` dan `cons_branch`) agar memproses input dan output dengan benar.\n",
    "\n",
    "#### **Kode yang Telah Diperbaiki**\n",
    "Berikut adalah kode yang telah diperbaiki:\n",
    "\n",
    "```python\n",
    "# Fungsi analisa kelebihan produk\n",
    "def analisa_kelebihan(fitur):\n",
    "    # Membuat prompt template untuk menganalisa kelebihan\n",
    "    pro_template = ChatPromptTemplate.from_messages([\n",
    "        (\"system\", \"Kamu adalah seorang expert product reviewer\"),\n",
    "        (\"human\", \"Berikan fitur ini: {fitur}, list dari kelebihan fitur yang dimiliki\")\n",
    "    ])\n",
    "    # Pastikan hasilnya berupa dictionary yang siap digunakan model\n",
    "    return pro_template.format_prompt(fitur=fitur).to_messages()  # Ini baru benar 👍🏻\n",
    "\n",
    "# Fungsi analisa kekurangan produk\n",
    "def analisa_kekurangan(fitur):\n",
    "    # Membuat prompt template untuk menganalisa kekurangan\n",
    "    cons_prompt = ChatPromptTemplate.from_messages([\n",
    "        (\"system\", \"Kamu adalah seorang expert product reviewer\"),\n",
    "        (\"human\", \"Berikan fitur ini: {fitur}, list dari kekurangan fitur yang dimiliki\")\n",
    "    ])\n",
    "    # Pastikan hasilnya berupa dictionary yang siap digunakan model\n",
    "    return cons_prompt.format_prompt(fitur=fitur).to_messages()   # Ini baru benar 👍🏻\n",
    "\n",
    "# RunnableLambda cabang kelebihan\n",
    "pros_branch = (\n",
    "    RunnableLambda(lambda x: model.invoke(analisa_kelebihan(x)))\n",
    "    | StrOutputParser()\n",
    ")\n",
    "\n",
    "# RunnableLambda cabang kekurangan\n",
    "cons_branch = (\n",
    "    RunnableLambda(lambda x: model.invoke(analisa_kekurangan(x)))\n",
    "    | StrOutputParser()\n",
    ")\n",
    "\n",
    "# Gabungan chain\n",
    "chain = (\n",
    "    prompt_awal\n",
    "    | model\n",
    "    | StrOutputParser()\n",
    "    | RunnableParallel(branches={\"kelebihan\": pros_branch, \"kekurangan\": cons_branch})\n",
    "    | RunnableLambda(lambda x: gabung_pros_cons(x[\"kelebihan\"], x[\"kekurangan\"]))\n",
    ")\n",
    "\n",
    "# Eksekusi\n",
    "result = chain.invoke({\"produk\": \"MacBook Pro\"})\n",
    "print(result)\n",
    "```\n",
    "\n",
    "#### **Penjelasan Perbaikan**\n",
    "1. **Konversi Output Prompt:**  \n",
    "   `format_prompt()` diubah menjadi `format_prompt().to_messages()` agar hasilnya berupa daftar pesan yang dikenali model.\n",
    "\n",
    "2. **Model Invocation:**  \n",
    "   Model dipanggil secara langsung di dalam `RunnableLambda` dengan `model.invoke()`.\n",
    "\n",
    "3. **Struktur Chain:**  \n",
    "   Semua cabang (`kelebihan` dan `kekurangan`) diproses secara paralel menggunakan `RunnableParallel` dan hasilnya digabungkan kembali di tahap akhir.\n",
    "\n",
    "#### **Hasil Akhir**\n",
    "Kode berhasil berjalan tanpa error, dan output dari chain paralel dapat diproses dengan benar.\n",
    "\n",
    "--- \n",
    "Catatan ini dapat digunakan sebagai referensi untuk troubleshooting jika masalah serupa muncul di masa mendatang. 😊"
   ]
  }
 ],
 "metadata": {
  "kernelspec": {
   "display_name": "venv",
   "language": "python",
   "name": "python3"
  },
  "language_info": {
   "codemirror_mode": {
    "name": "ipython",
    "version": 3
   },
   "file_extension": ".py",
   "mimetype": "text/x-python",
   "name": "python",
   "nbconvert_exporter": "python",
   "pygments_lexer": "ipython3",
   "version": "3.12.8"
  }
 },
 "nbformat": 4,
 "nbformat_minor": 2
}
