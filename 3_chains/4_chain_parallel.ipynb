{
 "cells": [
  {
   "cell_type": "markdown",
   "metadata": {},
   "source": [
    "### The Problem\n",
    "Misal kita punya dua tugas. Kita harus menulisa pro dan konta dari suatu produk. Untuk menjalankannya secara linear, pertama harus kita buat yang pro terlebih dahulu (makan waktu 30s) dan kemudian melanjutkannya dengan yang kontra (makan waktu 30s lagi). Dengan cara linear ini membutuhkan waktu sebanyak 1min.\n",
    "\n",
    "Tapi..\n",
    "\n",
    "Jika kita melakukan tugasnya itu bersamaan maka tidak akan memakan waktu sebanyak itu. Sehingganya metode paralel lebih baik."
   ]
  },
  {
   "cell_type": "markdown",
   "metadata": {},
   "source": [
    "### Studi Kasus\n",
    "\n",
    "Kita akan membuat chain untuk menggenerate kelebihan dan kekurangan dari sebuah produk."
   ]
  },
  {
   "cell_type": "code",
   "execution_count": 47,
   "metadata": {},
   "outputs": [
    {
     "data": {
      "text/plain": [
       "True"
      ]
     },
     "execution_count": 47,
     "metadata": {},
     "output_type": "execute_result"
    }
   ],
   "source": [
    "from langchain_groq import ChatGroq\n",
    "from langchain.schema.output_parser import StrOutputParser\n",
    "from langchain.schema.runnable import RunnableLambda, RunnableParallel\n",
    "from langchain.prompts import ChatPromptTemplate\n",
    "from dotenv import load_dotenv\n",
    "\n",
    "load_dotenv()"
   ]
  },
  {
   "cell_type": "code",
   "execution_count": 48,
   "metadata": {},
   "outputs": [],
   "source": [
    "model = ChatGroq(model=\"llama3-8b-8192\")"
   ]
  },
  {
   "cell_type": "markdown",
   "metadata": {},
   "source": [
    "**#1 Buat prompt template awal**"
   ]
  },
  {
   "cell_type": "code",
   "execution_count": 49,
   "metadata": {},
   "outputs": [],
   "source": [
    "# Prompt Awal\n",
    "prompt_awal = ChatPromptTemplate.from_messages([\n",
    "    (\"system\", \"Kamu adalah seorang expert product reviewer\"),\n",
    "    (\"human\", \"Tolong buat list dari fitur utama pada produk {produk}\")\n",
    "])"
   ]
  },
  {
   "cell_type": "markdown",
   "metadata": {},
   "source": [
    "**#2 Membuat fungsi menganalisa kelebihan dan kekurangan**\n",
    "\n",
    "Tiap fungsi ini akan dibuatkan prompt baru untuk modelnya gunakan sesuai dengan tujuan fungsinya."
   ]
  },
  {
   "cell_type": "code",
   "execution_count": 60,
   "metadata": {},
   "outputs": [],
   "source": [
    "# Fungsi analisa kelebihan produk\n",
    "def analisa_kelebihan(fitur):\n",
    "    # Membuat prompt template untuk menganalisa kelebihan\n",
    "    pro_template = ChatPromptTemplate.from_messages([\n",
    "        (\"system\", \"Kamu adalah seorang expert product reviewer\"),\n",
    "        (\"human\", \"Berikan fitur ini: {fitur}, list dari kelebihan fitur yang dimiliki\")\n",
    "    ])\n",
    "    \n",
    "    return pro_template.format_prompt(fitur=fitur).to_messages()\n",
    "\n",
    "# Fungsi analisa kekurangan produk\n",
    "def analisa_kekurangan(fitur):\n",
    "    # Membuat prompt template untuk menganalisa kekurangan\n",
    "    cons_prompt = ChatPromptTemplate.from_messages([\n",
    "        (\"system\", \"Kamu adalah seorang expert product reviewer\"),\n",
    "        (\"human\", \"Berikan fitur ini: {fitur}, list dari kekurangan fitur yang dimiliki\")\n",
    "    ])\n",
    "    \n",
    "    return cons_prompt.format_prompt(fitur=fitur).to_messages()"
   ]
  },
  {
   "cell_type": "markdown",
   "metadata": {},
   "source": []
  },
  {
   "cell_type": "markdown",
   "metadata": {},
   "source": [
    "**#3 Membuat fungsi untuk menggabungkan kelebihan dan kekurangan**\n",
    "\n",
    "Tujuannya untuk membuat dictionary dari chain yang dibuat"
   ]
  },
  {
   "cell_type": "code",
   "execution_count": 51,
   "metadata": {},
   "outputs": [],
   "source": [
    "def gabung_pros_cons(pros, cons):\n",
    "    return f\"Kelebihan:\\n{pros}\\n\\nKekurangan:\\n{cons}\""
   ]
  },
  {
   "cell_type": "markdown",
   "metadata": {},
   "source": [
    "**#4 Membuat RunnableLambda untuk mensimplifikasi cabang-cabang (branches) dengan menggunakan LCEL** "
   ]
  },
  {
   "cell_type": "code",
   "execution_count": 63,
   "metadata": {},
   "outputs": [],
   "source": [
    "pros_branch = (\n",
    "    # x adalah fitur. analisa_kelebihan(x) akan mengembalikan prompt template yang akan digunakan model\n",
    "    RunnableLambda(lambda x: analisa_kelebihan(x)) | model | StrOutputParser()\n",
    ")\n",
    "\n",
    "cons_branch = (\n",
    "    RunnableLambda(lambda x: analisa_kekurangan(x)) | model | StrOutputParser()\n",
    ")"
   ]
  },
  {
   "cell_type": "markdown",
   "metadata": {},
   "source": [
    "**#5 Membuat kombinasi chain menggunakan LCEL**"
   ]
  },
  {
   "cell_type": "code",
   "execution_count": 68,
   "metadata": {},
   "outputs": [],
   "source": [
    "chain = (\n",
    "    prompt_awal\n",
    "    | model\n",
    "    | StrOutputParser()\n",
    "    \n",
    "    # Menggunakan RunnableParallel\n",
    "    | RunnableParallel(branches={\"kelebihan\": pros_branch, \"kekurangan\": cons_branch})\n",
    "    \n",
    "    # Menyatukan kembali semua branch itu\n",
    "    | RunnableLambda(lambda x: gabung_pros_cons(x[\"branches\"][\"kelebihan\"], x[\"branches\"][\"kekurangan\"]))\n",
    ")"
   ]
  },
  {
   "cell_type": "code",
   "execution_count": 69,
   "metadata": {},
   "outputs": [
    {
     "name": "stdout",
     "output_type": "stream",
     "text": [
      "Kelebihan:\n",
      "Based on the features listed, here are the benefits of the MacBook Pro:\n",
      "\n",
      "1. **Display**:\n",
      "\t* High-resolution Retina display with wide color gamut for vibrant colors\n",
      "\t* Anti-reflective coating for reduced glare\n",
      "\t* 500 nits of brightness for improved visibility\n",
      "2. **Performance**:\n",
      "\t* Up to 8th generation Intel Core i9 processor with Turbo Boost up to 5.0 GHz\n",
      "\t* Up to 64GB of DDR4 RAM for smooth multitasking\n",
      "\t* Fast storage options with read speeds up to 3.2GB/s\n",
      "3. **Graphics**:\n",
      "\t* High-performance AMD Radeon Pro graphics with 4GB or 8GB of GDDR5 memory\n",
      "\t* Option for Intel Iris Plus Graphics 655 for improved graphics performance\n",
      "4. **Battery Life**:\n",
      "\t* Up to 10 hours of battery life for extended use\n",
      "\t* Fast charging capabilities for quick top-ups\n",
      "5. **Portability**:\n",
      "\t* Lightweight and compact design, starting at 3.02 pounds (13-inch) and 4.3 pounds (15-inch)\n",
      "\t* Aluminum unibody construction for durability\n",
      "6. **Sound**:\n",
      "\t* High-fidelity audio with wider stereo sound\n",
      "\t* Stereo speakers with a wider soundstage\n",
      "7. **Camera and Microphone**:\n",
      "\t* High-quality 720p FaceTime HD camera\n",
      "\t* Three-mic array with high-fidelity audio for improved voice calls and video conferencing\n",
      "8. **Operating System**:\n",
      "\t* macOS High Sierra or later for a seamless and secure user experience\n",
      "\t* Compatibility with iOS devices and other Apple products\n",
      "9. **Design and Build**:\n",
      "\t* Backlit keyboard with a glass trackpad for improved typing and navigation\n",
      "\t* Available in 13-inch and 15-inch sizes for flexibility\n",
      "\n",
      "Overall, the MacBook Pro offers a range of benefits that make it an excellent choice for professionals and creative users who require powerful performance, high-quality display, and advanced features.\n",
      "\n",
      "Kekurangan:\n",
      "Based on the features listed, here are some potential drawbacks or limitations of the MacBook Pro:\n",
      "\n",
      "1. **No USB-A ports**: The MacBook Pro only has Thunderbolt 3 (USB-C) ports, which may require users to purchase adapters or hubs to connect older USB-A devices.\n",
      "2. **No SD card slot**: The lack of an SD card slot may be inconvenient for photographers and others who need to transfer files from memory cards.\n",
      "3. **No HDMI port**: The absence of an HDMI port may make it difficult to connect the MacBook Pro to external displays or projectors.\n",
      "4. **Limited port selection**: With only four Thunderbolt 3 ports, users may find themselves running out of ports to connect multiple devices at once.\n",
      "5. **No CD/DVD drive**: The MacBook Pro does not have a CD/DVD drive, which may be a drawback for users who need to play or burn optical media.\n",
      "6. **High price**: The MacBook Pro is a premium product with a high price tag, which may be out of reach for some budget-conscious users.\n",
      "7. **Limited battery life**: While the MacBook Pro has a decent battery life of up to 10 hours, it may not be enough for users who need a laptop that can last all day.\n",
      "8. **No upgrade options**: The MacBook Pro's design and build may make it difficult or expensive to upgrade individual components, such as the RAM or storage.\n",
      "9. **No headphone jack**: The elimination of the headphone jack may require users to use Bluetooth headphones or adapters to listen to audio.\n",
      "10. **Limited compatibility**: The MacBook Pro's exclusive use of macOS may limit its compatibility with certain software or hardware, making it less suitable for users who need to work with different operating systems.\n",
      "\n",
      "Please note that these drawbacks may vary depending on the specific use case and user needs.\n"
     ]
    }
   ],
   "source": [
    "result = chain.invoke({\"produk\": \"MakBook Pro\"})\n",
    "print(result)"
   ]
  },
  {
   "cell_type": "markdown",
   "metadata": {},
   "source": [
    "---\n",
    "\n",
    "\n",
    "### Catatan Error: **LangChain Chain Parallel**\n",
    "\n",
    "#### **Deskripsi Masalah**\n",
    "Saat mencoba membuat sebuah chain paralel menggunakan **LangChain**, error berikut muncul:\n",
    "\n",
    "```shell\n",
    "TypeError: Expected a Runnable, callable or dict. Instead got an unsupported type: <class 'langchain_core.prompt_values.ChatPromptValue'>\n",
    "```\n",
    "\n",
    "Error ini terjadi ketika mencoba menjalankan `RunnableParallel` dengan branch yang mengembalikan tipe data **ChatPromptValue**. Namun, `RunnableParallel` mengharapkan `Runnable`, callable, atau dictionary.\n",
    "\n",
    "#### **Penyebab**\n",
    "1. **Tipe Data Tidak Didukung:**  \n",
    "   Fungsi `analisa_kelebihan` dan `analisa_kekurangan` mengembalikan objek `ChatPromptValue` dari `ChatPromptTemplate`. Tipe ini tidak dikenali langsung oleh LangChain sebagai input yang valid untuk cabang paralel.\n",
    "\n",
    "2. **Kesalahan Penanganan Output Prompt:**  \n",
    "   Output dari fungsi `analisa_kelebihan` dan `analisa_kekurangan` belum diubah menjadi format yang sesuai sebelum diproses lebih lanjut oleh model.\n",
    "\n",
    "```python\n",
    "   def analisa_kelebihan(fitur):\n",
    "      # ...      \n",
    "      return pro_template.format_prompt(fitur=fitur)  # Ini mengembalikan tipe data ChatPromptTemplate\n",
    "\n",
    "   def analisa_kekurangan(fitur):\n",
    "      # ...      \n",
    "      return cons_prompt.format_prompt(fitur=fitur)   # Ini mengembalikan tipe data ChatPromptTemplate\n",
    "```\n",
    "\n",
    "#### **Langkah Penyelesaian**\n",
    "Untuk mengatasi error ini, berikut langkah-langkah yang dilakukan:\n",
    "\n",
    "1. **Ubah Output Prompt ke Format yang Sesuai:**\n",
    "   Gunakan `.to_messages()` setelah `format_prompt()` agar keluaran berupa format yang diharapkan model.\n",
    "\n",
    "2. **Panggil Model dengan Benar di Lambda:**\n",
    "   Pastikan model dipanggil menggunakan `.invoke()` di dalam `RunnableLambda` dengan input yang sudah sesuai.\n",
    "\n",
    "3. **Sesuaikan Cabang `RunnableParallel`:**\n",
    "   Perbaiki setiap cabang (`pros_branch` dan `cons_branch`) agar memproses input dan output dengan benar.\n",
    "\n",
    "#### **Kode yang Telah Diperbaiki**\n",
    "Berikut adalah kode yang telah diperbaiki:\n",
    "\n",
    "```python\n",
    "# Fungsi analisa kelebihan produk\n",
    "def analisa_kelebihan(fitur):\n",
    "    # Membuat prompt template untuk menganalisa kelebihan\n",
    "    pro_template = ChatPromptTemplate.from_messages([\n",
    "        (\"system\", \"Kamu adalah seorang expert product reviewer\"),\n",
    "        (\"human\", \"Berikan fitur ini: {fitur}, list dari kelebihan fitur yang dimiliki\")\n",
    "    ])\n",
    "    # Pastikan hasilnya berupa dictionary yang siap digunakan model\n",
    "    return pro_template.format_prompt(fitur=fitur).to_messages()  # Ini baru benar 👍🏻\n",
    "\n",
    "# Fungsi analisa kekurangan produk\n",
    "def analisa_kekurangan(fitur):\n",
    "    # Membuat prompt template untuk menganalisa kekurangan\n",
    "    cons_prompt = ChatPromptTemplate.from_messages([\n",
    "        (\"system\", \"Kamu adalah seorang expert product reviewer\"),\n",
    "        (\"human\", \"Berikan fitur ini: {fitur}, list dari kekurangan fitur yang dimiliki\")\n",
    "    ])\n",
    "    # Pastikan hasilnya berupa dictionary yang siap digunakan model\n",
    "    return cons_prompt.format_prompt(fitur=fitur).to_messages()   # Ini baru benar 👍🏻\n",
    "\n",
    "# RunnableLambda cabang kelebihan\n",
    "pros_branch = (\n",
    "    RunnableLambda(lambda x: model.invoke(analisa_kelebihan(x)))\n",
    "    | StrOutputParser()\n",
    ")\n",
    "\n",
    "# RunnableLambda cabang kekurangan\n",
    "cons_branch = (\n",
    "    RunnableLambda(lambda x: model.invoke(analisa_kekurangan(x)))\n",
    "    | StrOutputParser()\n",
    ")\n",
    "\n",
    "# Gabungan chain\n",
    "chain = (\n",
    "    prompt_awal\n",
    "    | model\n",
    "    | StrOutputParser()\n",
    "    | RunnableParallel(branches={\"kelebihan\": pros_branch, \"kekurangan\": cons_branch})\n",
    "    | RunnableLambda(lambda x: gabung_pros_cons(x[\"kelebihan\"], x[\"kekurangan\"]))\n",
    ")\n",
    "\n",
    "# Eksekusi\n",
    "result = chain.invoke({\"produk\": \"MacBook Pro\"})\n",
    "print(result)\n",
    "```\n",
    "\n",
    "#### **Penjelasan Perbaikan**\n",
    "1. **Konversi Output Prompt:**  \n",
    "   `format_prompt()` diubah menjadi `format_prompt().to_messages()` agar hasilnya berupa daftar pesan yang dikenali model.\n",
    "\n",
    "2. **Model Invocation:**  \n",
    "   Model dipanggil secara langsung di dalam `RunnableLambda` dengan `model.invoke()`.\n",
    "\n",
    "3. **Struktur Chain:**  \n",
    "   Semua cabang (`kelebihan` dan `kekurangan`) diproses secara paralel menggunakan `RunnableParallel` dan hasilnya digabungkan kembali di tahap akhir.\n",
    "\n",
    "#### **Hasil Akhir**\n",
    "Kode berhasil berjalan tanpa error, dan output dari chain paralel dapat diproses dengan benar.\n",
    "\n",
    "--- \n",
    "Catatan ini dapat digunakan sebagai referensi untuk troubleshooting jika masalah serupa muncul di masa mendatang. 😊"
   ]
  }
 ],
 "metadata": {
  "kernelspec": {
   "display_name": "venv",
   "language": "python",
   "name": "python3"
  },
  "language_info": {
   "codemirror_mode": {
    "name": "ipython",
    "version": 3
   },
   "file_extension": ".py",
   "mimetype": "text/x-python",
   "name": "python",
   "nbconvert_exporter": "python",
   "pygments_lexer": "ipython3",
   "version": "3.12.8"
  }
 },
 "nbformat": 4,
 "nbformat_minor": 2
}
