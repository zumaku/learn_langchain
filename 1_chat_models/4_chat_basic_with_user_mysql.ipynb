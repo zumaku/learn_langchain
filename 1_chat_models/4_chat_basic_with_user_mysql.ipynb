{
 "cells": [
  {
   "cell_type": "code",
   "execution_count": 14,
   "metadata": {},
   "outputs": [],
   "source": [
    "from langchain.schema import AIMessage, HumanMessage, SystemMessage\n",
    "from langchain_ollama import ChatOllama\n",
    "import mysql.connector\n",
    "from datetime import datetime"
   ]
  },
  {
   "cell_type": "code",
   "execution_count": 15,
   "metadata": {},
   "outputs": [],
   "source": [
    "# Inisiasi Ollama model\n",
    "llm = ChatOllama(model=\"llama3.2\", temperature=0)\n",
    "\n",
    "# List to store message history\n",
    "chat_history = []\n",
    "\n",
    "# Set initial system message\n",
    "system_message = SystemMessage(content=\"You are a math genius\")\n",
    "chat_history.append(system_message)"
   ]
  },
  {
   "cell_type": "code",
   "execution_count": 19,
   "metadata": {},
   "outputs": [],
   "source": [
    "# Konfigurasi MySQL\n",
    "db_config = {\n",
    "    'host': 'localhost',\n",
    "    'user': 'root',\n",
    "    'password': '',  # Kosongkan jika tidak ada password\n",
    "    'database': 'learn_langchain'\n",
    "}"
   ]
  },
  {
   "cell_type": "code",
   "execution_count": 20,
   "metadata": {},
   "outputs": [],
   "source": [
    "# Fungsi untuk menyimpan percakapan ke MySQL\n",
    "def save_to_database(user_message, ai_response):\n",
    "    try:\n",
    "        conn = mysql.connector.connect(**db_config)\n",
    "        cursor = conn.cursor()\n",
    "        query = \"\"\"\n",
    "        INSERT INTO conversations (user_message, ai_response, timestamp)\n",
    "        VALUES (%s, %s, %s)\n",
    "        \"\"\"\n",
    "        values = (user_message, ai_response, datetime.now())\n",
    "        cursor.execute(query, values)\n",
    "        conn.commit()\n",
    "        cursor.close()\n",
    "        conn.close()\n",
    "        print(\"Conversation saved to database.\")\n",
    "    except mysql.connector.Error as err:\n",
    "        print(f\"Error: {err}\")"
   ]
  },
  {
   "cell_type": "code",
   "execution_count": 21,
   "metadata": {},
   "outputs": [],
   "source": [
    "# Chat Loop\n",
    "def start_chat():\n",
    "    print(\"Welcome to the chatbot! Type 'exit' to quit.\")\n",
    "    while True:\n",
    "        # Get input from User\n",
    "        query = input(\"Zuma: \")\n",
    "        \n",
    "        # Condition to break the loop\n",
    "        if query.lower() in [\"exit\", \"bye\"]:\n",
    "            print(\"AI: Good Bye :(\")\n",
    "            break\n",
    "        \n",
    "        # Add the user's query to chat history\n",
    "        chat_history.append(HumanMessage(content=query))\n",
    "        \n",
    "        # Get LLM response\n",
    "        result = llm(chat_history)\n",
    "        response = result.content\n",
    "        \n",
    "        # Save the LLM response to chat history\n",
    "        chat_history.append(AIMessage(content=response))\n",
    "        \n",
    "        print(f\"Human: {query}\")\n",
    "        print(f\"AI: {response}\")\n",
    "        \n",
    "        # Save to MySQL database\n",
    "        save_to_database(query, response)"
   ]
  },
  {
   "cell_type": "code",
   "execution_count": 22,
   "metadata": {},
   "outputs": [
    {
     "name": "stdout",
     "output_type": "stream",
     "text": [
      "Welcome to the chatbot! Type 'exit' to quit.\n"
     ]
    },
    {
     "ename": "",
     "evalue": "",
     "output_type": "error",
     "traceback": [
      "\u001b[1;31mThe Kernel crashed while executing code in the current cell or a previous cell. \n",
      "\u001b[1;31mPlease review the code in the cell(s) to identify a possible cause of the failure. \n",
      "\u001b[1;31mClick <a href='https://aka.ms/vscodeJupyterKernelCrash'>here</a> for more info. \n",
      "\u001b[1;31mView Jupyter <a href='command:jupyter.viewOutput'>log</a> for further details."
     ]
    }
   ],
   "source": [
    "# Main Program\n",
    "if __name__ == \"__main__\":\n",
    "    start_chat()\n",
    "\n",
    "    print(\"== Message History ==\")\n",
    "    for message in chat_history:\n",
    "        print(f\"{message.role}: {message.content}\")"
   ]
  }
 ],
 "metadata": {
  "kernelspec": {
   "display_name": "venv",
   "language": "python",
   "name": "python3"
  },
  "language_info": {
   "codemirror_mode": {
    "name": "ipython",
    "version": 3
   },
   "file_extension": ".py",
   "mimetype": "text/x-python",
   "name": "python",
   "nbconvert_exporter": "python",
   "pygments_lexer": "ipython3",
   "version": "3.12.7"
  }
 },
 "nbformat": 4,
 "nbformat_minor": 2
}
