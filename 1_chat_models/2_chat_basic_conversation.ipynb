{
 "cells": [
  {
   "cell_type": "code",
   "execution_count": 2,
   "metadata": {},
   "outputs": [],
   "source": [
    "from langchain.schema import AIMessage, HumanMessage, SystemMessage\n",
    "from langchain_ollama import ChatOllama"
   ]
  },
  {
   "cell_type": "markdown",
   "metadata": {},
   "source": [
    "Penggunaan `AIMessage`, `HumanMessage`, `SystemMessage` digunakan untuk\n",
    "1. Membantu mencegah kebingungan antara instruksi sistem, input pengguna, dan respons model. Ini akan memantu juga dalam mengelolah konteks selama percakapan.\n",
    "2. Saat menggunakan LangChain dengan fitur seperti conversation memory atau prompt chaining, pesan-pesan ini membantu dalam merekam percakapan dengan struktur yang jelas.\n"
   ]
  },
  {
   "cell_type": "code",
   "execution_count": 3,
   "metadata": {},
   "outputs": [],
   "source": [
    "# Inisiasi\n",
    "llm = ChatOllama(\n",
    "    model=\"llama3.2\",\n",
    "    temperature=0,\n",
    ")"
   ]
  },
  {
   "cell_type": "code",
   "execution_count": 4,
   "metadata": {},
   "outputs": [],
   "source": [
    "messages = [\n",
    "    SystemMessage(content=\"You are math genius\"),\n",
    "    HumanMessage(content=\"What is the formula for pythagoras theorem\")\n",
    "]"
   ]
  },
  {
   "cell_type": "code",
   "execution_count": 5,
   "metadata": {},
   "outputs": [
    {
     "name": "stdout",
     "output_type": "stream",
     "text": [
      "Answer from LLM: The Pythagorean Theorem!\n",
      "\n",
      "The formula is:\n",
      "\n",
      "a² + b² = c²\n",
      "\n",
      "Where:\n",
      "\n",
      "* a and b are the lengths of the two sides that form a right angle (90 degrees)\n",
      "* c is the length of the hypotenuse (the side opposite the right angle)\n",
      "\n",
      "This theorem helps you find the length of the hypotenuse when you know the lengths of the other two sides, or vice versa.\n"
     ]
    }
   ],
   "source": [
    "result = llm.invoke(messages)\n",
    "print(f\"Answer from LLM: {result.content}\")"
   ]
  },
  {
   "cell_type": "code",
   "execution_count": 8,
   "metadata": {},
   "outputs": [],
   "source": [
    "messages2 = [\n",
    "    SystemMessage(content=\"You are a great math genius\"),\n",
    "    \n",
    "    # One shot promting\n",
    "    HumanMessage(content=\"What is 8 * 2\"),\n",
    "    AIMessage(content=\"8 * 2 = 16\"),\n",
    "    \n",
    "    # Real question\n",
    "    HumanMessage(content=\"What is 9 * 2 / 3\"),\n",
    "]"
   ]
  },
  {
   "cell_type": "code",
   "execution_count": 9,
   "metadata": {},
   "outputs": [
    {
     "name": "stdout",
     "output_type": "stream",
     "text": [
      "Answer from LLM: To solve this, we need to follow the order of operations (PEMDAS):\n",
      "\n",
      "1. Multiply 9 and 2: 9 * 2 = 18\n",
      "2. Divide 18 by 3: 18 / 3 = 6\n",
      "\n",
      "So, 9 * 2 / 3 = 6\n"
     ]
    }
   ],
   "source": [
    "result2 = llm.invoke(messages2)\n",
    "print(f\"Answer from LLM: {result2.content}\")"
   ]
  }
 ],
 "metadata": {
  "kernelspec": {
   "display_name": "venv",
   "language": "python",
   "name": "python3"
  },
  "language_info": {
   "codemirror_mode": {
    "name": "ipython",
    "version": 3
   },
   "file_extension": ".py",
   "mimetype": "text/x-python",
   "name": "python",
   "nbconvert_exporter": "python",
   "pygments_lexer": "ipython3",
   "version": "3.12.7"
  }
 },
 "nbformat": 4,
 "nbformat_minor": 2
}
