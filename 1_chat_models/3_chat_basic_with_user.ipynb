{
 "cells": [
  {
   "cell_type": "code",
   "execution_count": 1,
   "metadata": {},
   "outputs": [],
   "source": [
    "from langchain.schema import AIMessage, HumanMessage, SystemMessage\n",
    "from langchain_ollama import ChatOllama"
   ]
  },
  {
   "cell_type": "code",
   "execution_count": 2,
   "metadata": {},
   "outputs": [],
   "source": [
    "# Inisiasi Ollama model\n",
    "llm = ChatOllama(model=\"llama3.2\", temperature=0)\n",
    "\n",
    "# List to store message\n",
    "chat_history = []\n",
    "\n",
    "# Set initial system message\n",
    "system_message = SystemMessage(content=\"You are math genius\")\n",
    "chat_history.append(system_message)"
   ]
  },
  {
   "cell_type": "code",
   "execution_count": 19,
   "metadata": {},
   "outputs": [],
   "source": [
    "# Chat Loop\n",
    "def start_chat():\n",
    "    while True:\n",
    "        # Get input from User\n",
    "        query = input(\"Zuma: \")\n",
    "        \n",
    "        # Condition to break the loop\n",
    "        if query.lower() == \"exit\" or query.lower() == \"bye\":\n",
    "            print(\"AI: Good Bye :(\")\n",
    "            break\n",
    "        \n",
    "        # Save the user message\n",
    "        chat_history.append(HumanMessage(content=query))\n",
    "        \n",
    "        # Get LLM response\n",
    "        result = llm(chat_history)\n",
    "        response = result.content\n",
    "        \n",
    "        # Save the llm response\n",
    "        chat_history.append(AIMessage(content=response))\n",
    "        \n",
    "        print(f\"Human: {query}\")\n",
    "        print(f\"AI: {response}\")"
   ]
  },
  {
   "cell_type": "code",
   "execution_count": 20,
   "metadata": {},
   "outputs": [
    {
     "name": "stdout",
     "output_type": "stream",
     "text": [
      "Human: Hai\n",
      "AI: It looks like you're sending me some enthusiastic greetings!\n",
      "\n",
      "I'll respond with an equally energetic greeting:\n",
      "\n",
      "HAI!\n",
      "Human: What is the formula forphytagoras theorem\n",
      "AI: Déjà vu!\n",
      "\n",
      "The formula is still:\n",
      "\n",
      "a² + b² = c²\n",
      "\n",
      "Where:\n",
      "- a and b are the lengths of the legs (the sides that meet at a right angle)\n",
      "- c is the length of the hypotenuse (the side opposite the right angle)\n",
      "\n",
      "This theorem describes the relationship between the lengths of the sides of a right triangle.\n",
      "Human: What about the formula for calculation round circlw\n",
      "AI: I think you meant to ask about the formula for calculating the circumference of a circle!\n",
      "\n",
      "The formula is:\n",
      "\n",
      "Circumference = 2 × π × Radius (or Diameter)\n",
      "\n",
      "Where:\n",
      "- Circumference is the distance around the circle\n",
      "- π (pi) is approximately 3.14159\n",
      "- Radius is the distance from the center of the circle to the edge\n",
      "- Diameter is twice the radius\n",
      "\n",
      "So, if you know the radius or diameter, you can use this formula to calculate the circumference!\n",
      "AI: Good Bye :(\n",
      "== Message History ==\n",
      "[SystemMessage(content='You are math genius', additional_kwargs={}, response_metadata={}), HumanMessage(content='', additional_kwargs={}, response_metadata={}), HumanMessage(content='What is 2 * 3', additional_kwargs={}, response_metadata={}), AIMessage(content='Easy peasy!\\n\\nThe answer is... 6!', additional_kwargs={}, response_metadata={}), HumanMessage(content='How about 3 * 2 / 4', additional_kwargs={}, response_metadata={}), AIMessage(content=\"A slight twist on the classic multiplication and division problem!\\n\\nTo solve this, I'll follow the order of operations (PEMDAS):\\n\\n1. Multiply 3 and 2: 3 × 2 = 6\\n2. Divide 6 by 4: 6 ÷ 4 = 1.5\\n\\nSo, the answer is... 1.5!\", additional_kwargs={}, response_metadata={}), HumanMessage(content='what is the formula forphytagoras theorem', additional_kwargs={}, response_metadata={}), AIMessage(content=\"You're referring to the Pythagorean Theorem!\\n\\nThe formula is:\\n\\na² + b² = c²\\n\\nWhere:\\n- a and b are the lengths of the legs (the sides that meet at a right angle)\\n- c is the length of the hypotenuse (the side opposite the right angle)\\n\\nThis theorem describes the relationship between the lengths of the sides of a right triangle.\", additional_kwargs={}, response_metadata={}), HumanMessage(content='Hai', additional_kwargs={}, response_metadata={}), HumanMessage(content='hai', additional_kwargs={}, response_metadata={}), HumanMessage(content='Hai', additional_kwargs={}, response_metadata={}), HumanMessage(content='Hai', additional_kwargs={}, response_metadata={}), AIMessage(content=\"It looks like you're sending me some enthusiastic greetings!\\n\\nI'll respond with an equally energetic greeting:\\n\\nHAI!\", additional_kwargs={}, response_metadata={}), HumanMessage(content='What is the formula forphytagoras theorem', additional_kwargs={}, response_metadata={}), AIMessage(content='Déjà vu!\\n\\nThe formula is still:\\n\\na² + b² = c²\\n\\nWhere:\\n- a and b are the lengths of the legs (the sides that meet at a right angle)\\n- c is the length of the hypotenuse (the side opposite the right angle)\\n\\nThis theorem describes the relationship between the lengths of the sides of a right triangle.', additional_kwargs={}, response_metadata={}), HumanMessage(content='What about the formula for calculation round circlw', additional_kwargs={}, response_metadata={}), AIMessage(content='I think you meant to ask about the formula for calculating the circumference of a circle!\\n\\nThe formula is:\\n\\nCircumference = 2 × π × Radius (or Diameter)\\n\\nWhere:\\n- Circumference is the distance around the circle\\n- π (pi) is approximately 3.14159\\n- Radius is the distance from the center of the circle to the edge\\n- Diameter is twice the radius\\n\\nSo, if you know the radius or diameter, you can use this formula to calculate the circumference!', additional_kwargs={}, response_metadata={})]\n"
     ]
    }
   ],
   "source": [
    "start_chat()\n",
    "\n",
    "print(\"== Message History ==\")\n",
    "print(chat_history)"
   ]
  }
 ],
 "metadata": {
  "kernelspec": {
   "display_name": "venv",
   "language": "python",
   "name": "python3"
  },
  "language_info": {
   "codemirror_mode": {
    "name": "ipython",
    "version": 3
   },
   "file_extension": ".py",
   "mimetype": "text/x-python",
   "name": "python",
   "nbconvert_exporter": "python",
   "pygments_lexer": "ipython3",
   "version": "3.12.7"
  }
 },
 "nbformat": 4,
 "nbformat_minor": 2
}
