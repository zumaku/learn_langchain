{
 "cells": [
  {
   "cell_type": "code",
   "execution_count": 1,
   "metadata": {},
   "outputs": [],
   "source": [
    "from langchain.schema import AIMessage, HumanMessage, SystemMessage\n",
    "from langchain_ollama import ChatOllama"
   ]
  },
  {
   "cell_type": "code",
   "execution_count": 2,
   "metadata": {},
   "outputs": [],
   "source": [
    "# Inisiasi Ollama model\n",
    "llm = ChatOllama(model=\"llama3.2\", temperature=0)\n",
    "\n",
    "# List to store message\n",
    "chat_history = []\n",
    "\n",
    "# Set initial system message\n",
    "system_message = SystemMessage(content=\"You are math genius\")\n",
    "chat_history.append(system_message)"
   ]
  },
  {
   "cell_type": "code",
   "execution_count": 19,
   "metadata": {},
   "outputs": [],
   "source": [
    "# Chat Loop\n",
    "def start_chat():\n",
    "    while True:\n",
    "        # Get input from User\n",
    "        query = input(\"Zuma: \")\n",
    "        \n",
    "        # Condition to break the loop\n",
    "        if query.lower() == \"exit\" or query.lower() == \"bye\":\n",
    "            print(\"AI: Good Bye :(\")\n",
    "            break\n",
    "        \n",
    "        # Save the user message\n",
    "        chat_history.append(HumanMessage(content=query))\n",
    "        \n",
    "        # Get LLM response\n",
    "        result = llm(chat_history)\n",
    "        response = result.content\n",
    "        \n",
    "        # Save the llm response\n",
    "        chat_history.append(AIMessage(content=response))\n",
    "        \n",
    "        print(f\"Human: {query}\")\n",
    "        print(f\"AI: {response}\")"
   ]
  },
  {
   "cell_type": "code",
   "execution_count": 21,
   "metadata": {},
   "outputs": [
    {
     "name": "stdout",
     "output_type": "stream",
     "text": [
      "Human: Hi, my name is Zuma. I hear that you are good at math. I want to test you.\n",
      "AI: Nice to meet you, Zuma!\n",
      "\n",
      "I'd love to put my math skills to the test! Go ahead and give me a challenge - it can be anything from basic arithmetic to advanced calculus or geometry. I'm ready when you are!\n",
      "\n",
      "What's the problem?\n",
      "Human: Before i test you. What is my name again?\n",
      "AI: Your name is Zuma, nice and simple!\n",
      "\n",
      "Now, let's get back to the math challenge! Are you ready to put me through my paces?\n",
      "Human: Ok.. tell me about the formula for cube volume\n",
      "AI: The formula for the volume of a cube is:\n",
      "\n",
      "Volume = s³\n",
      "\n",
      "Where:\n",
      "- Volume is the amount of space inside the cube\n",
      "- s is the length of one side of the cube (i.e., the distance from one corner to the opposite corner)\n",
      "\n",
      "For example, if you have a cube with sides that are 5 units long, its volume would be:\n",
      "\n",
      "Volume = 5³ = 5 × 5 × 5 = 125 cubic units\n",
      "\n",
      "Easy peasy!\n",
      "\n",
      "Now, Zuma, are you ready to challenge me with something more?\n",
      "Human: Yes, lets try another challenge. What is 19 * 0 + 2 / 1 *10\n",
      "AI: Bring it on, Zuma!\n",
      "\n",
      "To solve this problem, I'll follow the order of operations (PEMDAS):\n",
      "\n",
      "1. Multiply 19 and 0: 19 × 0 = 0\n",
      "2. Add 2 to the result: 0 + 2 = 2\n",
      "3. Divide 2 by 1: 2 ÷ 1 = 2\n",
      "4. Multiply 2 by 10: 2 × 10 = 20\n",
      "\n",
      "So, the final answer is:\n",
      "\n",
      "19 * 0 + 2 / 1 * 10 = 0 + 2 + 20 = 22\n",
      "\n",
      "Did I get it right?\n",
      "Human: Ok, next. What is the formula for calculating TF-IDF on text processing\n",
      "AI: A challenge in natural language processing!\n",
      "\n",
      "TF-IDF (Term Frequency-Inverse Document Frequency) is a technique used to calculate the importance of words in a document or corpus.\n",
      "\n",
      "The formula for TF-IDF is:\n",
      "\n",
      "TF-IDF = (TF × IDF)\n",
      "\n",
      "Where:\n",
      "- TF (Term Frequency) is the frequency of a word in a document, normalized by the total number of words in the document.\n",
      "- IDF (Inverse Document Frequency) is the rarity of a word across all documents in the corpus, calculated as:\n",
      "\n",
      "IDF = log(N / n + 1)\n",
      "\n",
      "Where:\n",
      "- N is the total number of documents in the corpus\n",
      "- n is the number of documents that contain the word\n",
      "\n",
      "The TF-IDF score represents the importance of each word in the document, taking into account both its frequency and rarity.\n",
      "\n",
      "Mathematically, this can be represented as:\n",
      "\n",
      "TF-IDF = (TF × log(N / n + 1))\n",
      "\n",
      "Where:\n",
      "- TF is the term frequency\n",
      "- N is the total number of documents\n",
      "- n is the number of documents that contain the word\n",
      "\n",
      "This formula calculates a score between 0 and 1, where higher scores indicate more important words.\n",
      "\n",
      "Now, Zuma, are you ready to challenge me with another math problem?\n",
      "AI: Good Bye :(\n",
      "== Message History ==\n",
      "[SystemMessage(content='You are math genius', additional_kwargs={}, response_metadata={}), HumanMessage(content='', additional_kwargs={}, response_metadata={}), HumanMessage(content='What is 2 * 3', additional_kwargs={}, response_metadata={}), AIMessage(content='Easy peasy!\\n\\nThe answer is... 6!', additional_kwargs={}, response_metadata={}), HumanMessage(content='How about 3 * 2 / 4', additional_kwargs={}, response_metadata={}), AIMessage(content=\"A slight twist on the classic multiplication and division problem!\\n\\nTo solve this, I'll follow the order of operations (PEMDAS):\\n\\n1. Multiply 3 and 2: 3 × 2 = 6\\n2. Divide 6 by 4: 6 ÷ 4 = 1.5\\n\\nSo, the answer is... 1.5!\", additional_kwargs={}, response_metadata={}), HumanMessage(content='what is the formula forphytagoras theorem', additional_kwargs={}, response_metadata={}), AIMessage(content=\"You're referring to the Pythagorean Theorem!\\n\\nThe formula is:\\n\\na² + b² = c²\\n\\nWhere:\\n- a and b are the lengths of the legs (the sides that meet at a right angle)\\n- c is the length of the hypotenuse (the side opposite the right angle)\\n\\nThis theorem describes the relationship between the lengths of the sides of a right triangle.\", additional_kwargs={}, response_metadata={}), HumanMessage(content='Hai', additional_kwargs={}, response_metadata={}), HumanMessage(content='hai', additional_kwargs={}, response_metadata={}), HumanMessage(content='Hai', additional_kwargs={}, response_metadata={}), HumanMessage(content='Hai', additional_kwargs={}, response_metadata={}), AIMessage(content=\"It looks like you're sending me some enthusiastic greetings!\\n\\nI'll respond with an equally energetic greeting:\\n\\nHAI!\", additional_kwargs={}, response_metadata={}), HumanMessage(content='What is the formula forphytagoras theorem', additional_kwargs={}, response_metadata={}), AIMessage(content='Déjà vu!\\n\\nThe formula is still:\\n\\na² + b² = c²\\n\\nWhere:\\n- a and b are the lengths of the legs (the sides that meet at a right angle)\\n- c is the length of the hypotenuse (the side opposite the right angle)\\n\\nThis theorem describes the relationship between the lengths of the sides of a right triangle.', additional_kwargs={}, response_metadata={}), HumanMessage(content='What about the formula for calculation round circlw', additional_kwargs={}, response_metadata={}), AIMessage(content='I think you meant to ask about the formula for calculating the circumference of a circle!\\n\\nThe formula is:\\n\\nCircumference = 2 × π × Radius (or Diameter)\\n\\nWhere:\\n- Circumference is the distance around the circle\\n- π (pi) is approximately 3.14159\\n- Radius is the distance from the center of the circle to the edge\\n- Diameter is twice the radius\\n\\nSo, if you know the radius or diameter, you can use this formula to calculate the circumference!', additional_kwargs={}, response_metadata={}), HumanMessage(content='Hi, my name is Zuma. I hear that you are good at math. I want to test you.', additional_kwargs={}, response_metadata={}), AIMessage(content=\"Nice to meet you, Zuma!\\n\\nI'd love to put my math skills to the test! Go ahead and give me a challenge - it can be anything from basic arithmetic to advanced calculus or geometry. I'm ready when you are!\\n\\nWhat's the problem?\", additional_kwargs={}, response_metadata={}), HumanMessage(content='Before i test you. What is my name again?', additional_kwargs={}, response_metadata={}), AIMessage(content=\"Your name is Zuma, nice and simple!\\n\\nNow, let's get back to the math challenge! Are you ready to put me through my paces?\", additional_kwargs={}, response_metadata={}), HumanMessage(content='Ok.. tell me about the formula for cube volume', additional_kwargs={}, response_metadata={}), AIMessage(content='The formula for the volume of a cube is:\\n\\nVolume = s³\\n\\nWhere:\\n- Volume is the amount of space inside the cube\\n- s is the length of one side of the cube (i.e., the distance from one corner to the opposite corner)\\n\\nFor example, if you have a cube with sides that are 5 units long, its volume would be:\\n\\nVolume = 5³ = 5 × 5 × 5 = 125 cubic units\\n\\nEasy peasy!\\n\\nNow, Zuma, are you ready to challenge me with something more?', additional_kwargs={}, response_metadata={}), HumanMessage(content='Yes, lets try another challenge. What is 19 * 0 + 2 / 1 *10', additional_kwargs={}, response_metadata={}), AIMessage(content=\"Bring it on, Zuma!\\n\\nTo solve this problem, I'll follow the order of operations (PEMDAS):\\n\\n1. Multiply 19 and 0: 19 × 0 = 0\\n2. Add 2 to the result: 0 + 2 = 2\\n3. Divide 2 by 1: 2 ÷ 1 = 2\\n4. Multiply 2 by 10: 2 × 10 = 20\\n\\nSo, the final answer is:\\n\\n19 * 0 + 2 / 1 * 10 = 0 + 2 + 20 = 22\\n\\nDid I get it right?\", additional_kwargs={}, response_metadata={}), HumanMessage(content='Ok, next. What is the formula for calculating TF-IDF on text processing', additional_kwargs={}, response_metadata={}), AIMessage(content='A challenge in natural language processing!\\n\\nTF-IDF (Term Frequency-Inverse Document Frequency) is a technique used to calculate the importance of words in a document or corpus.\\n\\nThe formula for TF-IDF is:\\n\\nTF-IDF = (TF × IDF)\\n\\nWhere:\\n- TF (Term Frequency) is the frequency of a word in a document, normalized by the total number of words in the document.\\n- IDF (Inverse Document Frequency) is the rarity of a word across all documents in the corpus, calculated as:\\n\\nIDF = log(N / n + 1)\\n\\nWhere:\\n- N is the total number of documents in the corpus\\n- n is the number of documents that contain the word\\n\\nThe TF-IDF score represents the importance of each word in the document, taking into account both its frequency and rarity.\\n\\nMathematically, this can be represented as:\\n\\nTF-IDF = (TF × log(N / n + 1))\\n\\nWhere:\\n- TF is the term frequency\\n- N is the total number of documents\\n- n is the number of documents that contain the word\\n\\nThis formula calculates a score between 0 and 1, where higher scores indicate more important words.\\n\\nNow, Zuma, are you ready to challenge me with another math problem?', additional_kwargs={}, response_metadata={})]\n"
     ]
    }
   ],
   "source": [
    "start_chat()\n",
    "\n",
    "print(\"== Message History ==\")\n",
    "print(chat_history)"
   ]
  }
 ],
 "metadata": {
  "kernelspec": {
   "display_name": "venv",
   "language": "python",
   "name": "python3"
  },
  "language_info": {
   "codemirror_mode": {
    "name": "ipython",
    "version": 3
   },
   "file_extension": ".py",
   "mimetype": "text/x-python",
   "name": "python",
   "nbconvert_exporter": "python",
   "pygments_lexer": "ipython3",
   "version": "3.12.7"
  }
 },
 "nbformat": 4,
 "nbformat_minor": 2
}
