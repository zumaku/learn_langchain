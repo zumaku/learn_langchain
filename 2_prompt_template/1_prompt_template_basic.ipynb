{
 "cells": [
  {
   "cell_type": "code",
   "execution_count": 5,
   "metadata": {},
   "outputs": [],
   "source": [
    "from langchain.schema import HumanMessage\n",
    "from langchain_core.prompts import PromptTemplate, ChatPromptTemplate"
   ]
  },
  {
   "cell_type": "markdown",
   "metadata": {},
   "source": [
    "### 1. Create String Prompt Template\n",
    "\n"
   ]
  },
  {
   "cell_type": "code",
   "execution_count": null,
   "metadata": {},
   "outputs": [
    {
     "name": "stdout",
     "output_type": "stream",
     "text": [
      "text='Tell me ajoke about cats'\n"
     ]
    }
   ],
   "source": [
    "# Single value\n",
    "prompt_template = PromptTemplate.from_template(\"Tell me ajoke about {topic}\")\n",
    "prompt_single = prompt_template.invoke({\"topic\": \"cats\"})\n",
    "print(prompt_single)"
   ]
  },
  {
   "cell_type": "code",
   "execution_count": 13,
   "metadata": {},
   "outputs": [
    {
     "name": "stdout",
     "output_type": "stream",
     "text": [
      "text='You are a helpful assistant.\\nTell me a story story about a panda.\\nAssistant:'\n"
     ]
    }
   ],
   "source": [
    "# Multiple value\n",
    "prompt_multiple_template = \"\"\"You are a helpful assistant.\n",
    "Tell me a {adjective} story about a {animal}.\n",
    "Assistant:\"\"\"\n",
    "prompt_template = PromptTemplate.from_template(prompt_multiple_template)\n",
    "prompt_multiple = prompt_template.invoke({\"adjective\": \"story\", \"animal\": \"panda\"})\n",
    "print(prompt_multiple)"
   ]
  },
  {
   "cell_type": "markdown",
   "metadata": {},
   "source": [
    "### 2. Create Chat Prompt Template"
   ]
  },
  {
   "cell_type": "code",
   "execution_count": 19,
   "metadata": {},
   "outputs": [
    {
     "name": "stdout",
     "output_type": "stream",
     "text": [
      "messages=[SystemMessage(content='You are a great teacher', additional_kwargs={}, response_metadata={}), HumanMessage(content='Tell me about deep learning', additional_kwargs={}, response_metadata={})]\n"
     ]
    }
   ],
   "source": [
    "message = [\n",
    "    (\"system\", \"You are a {role}\"),\n",
    "    (\"user\", \"Tell me about {topic}\")\n",
    "]\n",
    "\n",
    "chat_prompt_template = ChatPromptTemplate.from_messages(message)\n",
    "\n",
    "prompt = chat_prompt_template.invoke({\"role\": \"great teacher\", \"topic\": \"deep learning\"})\n",
    "print(prompt)"
   ]
  },
  {
   "cell_type": "code",
   "execution_count": 20,
   "metadata": {},
   "outputs": [
    {
     "name": "stdout",
     "output_type": "stream",
     "text": [
      "messages=[SystemMessage(content='You are a great teacher', additional_kwargs={}, response_metadata={}), HumanMessage(content='Tell me about deep learning', additional_kwargs={}, response_metadata={})]\n"
     ]
    }
   ],
   "source": [
    "# Cara terbaru (dari dokumentasi langsung)\n",
    "new_chat_prompt_template = ChatPromptTemplate([\n",
    "    (\"system\", \"You are a {role}\"),\n",
    "    (\"user\", \"Tell me about {topic}\")\n",
    "])\n",
    "\n",
    "prompt = new_chat_prompt_template.invoke({\"role\": \"great teacher\", \"topic\": \"deep learning\"})\n",
    "print(prompt)"
   ]
  },
  {
   "cell_type": "markdown",
   "metadata": {},
   "source": [
    "### Note\n",
    "\n",
    "setiap kali kitaakan melakukan suatu [String Interpolation](https://www.huzefril.com/posts/konsep/string_interpolation/#:~:text=String%20interpolation%20adalah%20teknik%20untuk,membuat%20teks%20yang%20lebih%20dinamis.), kita harus menggunakan [tuple format](https://www.programiz.com/python-programming/tuple). Karena jika menggunakan String Interpolation dalam `AIMessage`, `HumanMessage`, atau `SystemMessage`, seluruh content akan dianggap sebagai string.\n",
    "\n",
    "**✅Does Work:**\n",
    "\n",
    "```python\n",
    "new_chat_prompt_template = ChatPromptTemplate([\n",
    "    (\"system\", \"You are a {role} comedian\"),\n",
    "    HumanMessage(content=\"Tell me some joke\")\n",
    "])\n",
    "```\n",
    "\n",
    "**❌Does NOT Work:**\n",
    "\n",
    "Ini tidak akan berjalan karena \"{joke_count}\" akan dianggap sebagai string, dan bukan variable yang dapat diganti.\n",
    "\n",
    "```python\n",
    "new_chat_prompt_template = ChatPromptTemplate([\n",
    "    (\"system\", \"You are a {role} comedian\"),\n",
    "    HumanMessage(content=\"Tell me {joke_count} joke\")\n",
    "])\n",
    "```"
   ]
  }
 ],
 "metadata": {
  "kernelspec": {
   "display_name": "venv",
   "language": "python",
   "name": "python3"
  },
  "language_info": {
   "codemirror_mode": {
    "name": "ipython",
    "version": 3
   },
   "file_extension": ".py",
   "mimetype": "text/x-python",
   "name": "python",
   "nbconvert_exporter": "python",
   "pygments_lexer": "ipython3",
   "version": "3.12.7"
  }
 },
 "nbformat": 4,
 "nbformat_minor": 2
}
