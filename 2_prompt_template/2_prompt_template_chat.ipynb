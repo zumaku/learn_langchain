{
 "cells": [
  {
   "cell_type": "code",
   "execution_count": 23,
   "metadata": {},
   "outputs": [],
   "source": [
    "from langchain_ollama import ChatOllama\n",
    "from langchain_core.prompts import PromptTemplate, ChatPromptTemplate"
   ]
  },
  {
   "cell_type": "code",
   "execution_count": 11,
   "metadata": {},
   "outputs": [],
   "source": [
    "llm = ChatOllama(model=\"Llama3.2\")"
   ]
  },
  {
   "cell_type": "markdown",
   "metadata": {},
   "source": [
    "### Test 1"
   ]
  },
  {
   "cell_type": "code",
   "execution_count": 12,
   "metadata": {},
   "outputs": [],
   "source": [
    "template = \"Tell me a realy funny joke about {joke}\"\n",
    "prompt_template = PromptTemplate.from_template(template)"
   ]
  },
  {
   "cell_type": "code",
   "execution_count": 13,
   "metadata": {},
   "outputs": [
    {
     "name": "stdout",
     "output_type": "stream",
     "text": [
      "Here's one:\n",
      "\n",
      "Why did Mark Zuckerberg bring a ladder to the party?\n",
      "\n",
      "Because he wanted to take his Facebook post to the next level!\n",
      "\n",
      "(Sorry, I know it's a bit of a \"like\"able pun)\n"
     ]
    }
   ],
   "source": [
    "prompt = prompt_template.invoke({\"joke\": \"Mark Zuckerberk\"})\n",
    "result = llm.invoke(prompt)\n",
    "print(result.content)"
   ]
  },
  {
   "cell_type": "markdown",
   "metadata": {},
   "source": [
    "### Test 2"
   ]
  },
  {
   "cell_type": "code",
   "execution_count": 38,
   "metadata": {},
   "outputs": [],
   "source": [
    "messages = [\n",
    "    (\"system\", \"You are a comedian who tell jokes about {topic}\"),\n",
    "    (\"user\", \"Tell me {joke_count} jokes\")\n",
    "]"
   ]
  },
  {
   "cell_type": "code",
   "execution_count": 40,
   "metadata": {},
   "outputs": [],
   "source": [
    "prompt_template = ChatPromptTemplate.from_messages(messages)\n",
    "prompt = prompt_template.invoke({\"topic\": \"Bear\", \"joke_count\": 5})"
   ]
  },
  {
   "cell_type": "code",
   "execution_count": 41,
   "metadata": {},
   "outputs": [
    {
     "name": "stdout",
     "output_type": "stream",
     "text": [
      "Here are five bear-ly funny jokes for you:\n",
      "\n",
      "1. Why did the bear go to the doctor?\n",
      "Because it had a grizzly cough!\n",
      "\n",
      "2. Why do bears make great dancers?\n",
      "They're always paws-itively in sync!\n",
      "\n",
      "3. What did the bear say when his friend asked him to hang out?\n",
      "\"I'm not free, I'm grrr-inded!\"\n",
      "\n",
      "4. Why did the bear go to the gym?\n",
      "To get some paws-itive reinforcement!\n",
      "\n",
      "5. What do you call a bear with no socks on?\n",
      "Barefoot!\n",
      "\n",
      "Hope these jokes made your day a little brighter!\n"
     ]
    }
   ],
   "source": [
    "result = llm.invoke(prompt)\n",
    "print(result.content)"
   ]
  }
 ],
 "metadata": {
  "kernelspec": {
   "display_name": "venv",
   "language": "python",
   "name": "python3"
  },
  "language_info": {
   "codemirror_mode": {
    "name": "ipython",
    "version": 3
   },
   "file_extension": ".py",
   "mimetype": "text/x-python",
   "name": "python",
   "nbconvert_exporter": "python",
   "pygments_lexer": "ipython3",
   "version": "3.12.7"
  }
 },
 "nbformat": 4,
 "nbformat_minor": 2
}
